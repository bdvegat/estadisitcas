{
 "cells": [
  {
   "cell_type": "markdown",
   "metadata": {},
   "source": [
    "### Probabilidad de que salgan n veces seguidas numeros pares, el evento opuesto es 0, 00 o impar"
   ]
  },
  {
   "cell_type": "code",
   "execution_count": 1,
   "metadata": {},
   "outputs": [
    {
     "name": "stdout",
     "output_type": "stream",
     "text": [
      "1\t47.36842 %\n",
      "2\t22.43767 %\n",
      "3\t10.62837 %\n",
      "4\t5.03449 %\n",
      "5\t2.38476 %\n",
      "6\t1.12962 %\n",
      "7\t0.53508 %\n",
      "8\t0.25346 %\n",
      "9\t0.12006 %\n",
      "10\t0.05687 %\n",
      "11\t0.02694 %\n",
      "12\t0.01276 %\n",
      "13\t0.00604 %\n",
      "14\t0.00286 %\n"
     ]
    }
   ],
   "source": [
    "p_par = 18/38\n",
    "l_p_par=[]\n",
    "for n in range (1,15):\n",
    "    p_actual = p_par**n\n",
    "    l_p_par.append(p_actual)\n",
    "    print (str(n)+\"\\t\"+\"{0:.5f}\".format(p_actual*100)+\" %\")\n",
    "    "
   ]
  },
  {
   "cell_type": "markdown",
   "metadata": {},
   "source": [
    "### probabilidad del evento opuesto, numeros impares, 0 y 00"
   ]
  },
  {
   "cell_type": "code",
   "execution_count": 2,
   "metadata": {},
   "outputs": [
    {
     "name": "stdout",
     "output_type": "stream",
     "text": [
      "1\t52.63158 %\n",
      "2\t77.56233 %\n",
      "3\t89.37163 %\n",
      "4\t94.96551 %\n",
      "5\t97.61524 %\n",
      "6\t98.87038 %\n",
      "7\t99.46492 %\n",
      "8\t99.74654 %\n",
      "9\t99.87994 %\n",
      "10\t99.94313 %\n",
      "11\t99.97306 %\n",
      "12\t99.98724 %\n",
      "13\t99.99396 %\n",
      "14\t99.99714 %\n"
     ]
    }
   ],
   "source": [
    "for i in range(0,14):\n",
    "    st=(1-l_p_par[i])*100\n",
    "    print(str(i+1)+\"\\t\"+\"{0:.5f}\".format(st)+\" %\")"
   ]
  },
  {
   "cell_type": "markdown",
   "metadata": {},
   "source": [
    "### probabilidad de que caigan numeros pares, 0 o 00 n veces seguidas, el evento opuesto es impar."
   ]
  },
  {
   "cell_type": "code",
   "execution_count": 3,
   "metadata": {},
   "outputs": [
    {
     "name": "stdout",
     "output_type": "stream",
     "text": [
      "1\t52.63158 %\n",
      "2\t27.70083 %\n",
      "3\t14.57938 %\n",
      "4\t7.67336 %\n",
      "5\t4.03861 %\n",
      "6\t2.12558 %\n",
      "7\t1.11873 %\n",
      "8\t0.58880 %\n",
      "9\t0.30990 %\n",
      "10\t0.16310 %\n",
      "11\t0.08584 %\n",
      "12\t0.04518 %\n",
      "13\t0.02378 %\n",
      "14\t0.01252 %\n"
     ]
    }
   ],
   "source": [
    "p_par = 20/38\n",
    "l_p_par_0=[]\n",
    "for n in range (1,15):\n",
    "    p_actual = p_par**n\n",
    "    l_p_par_0.append(p_actual)\n",
    "    print (str(n)+\"\\t\"+\"{0:.5f}\".format(p_actual*100)+\" %\")"
   ]
  },
  {
   "cell_type": "markdown",
   "metadata": {},
   "source": [
    "### probabilidad del evento opuesto, numeros impares"
   ]
  },
  {
   "cell_type": "code",
   "execution_count": 4,
   "metadata": {},
   "outputs": [
    {
     "name": "stdout",
     "output_type": "stream",
     "text": [
      "1\t47.36842 %\n",
      "2\t72.29917 %\n",
      "3\t85.42062 %\n",
      "4\t92.32664 %\n",
      "5\t95.96139 %\n",
      "6\t97.87442 %\n",
      "7\t98.88127 %\n",
      "8\t99.41120 %\n",
      "9\t99.69010 %\n",
      "10\t99.83690 %\n",
      "11\t99.91416 %\n",
      "12\t99.95482 %\n",
      "13\t99.97622 %\n",
      "14\t99.98748 %\n"
     ]
    }
   ],
   "source": [
    "for i in range(0,14):\n",
    "    st=(1-l_p_par_0[i])*100\n",
    "    print(str(i+1)+\"\\t\"+\"{0:.5f}\".format(st)+\" %\")"
   ]
  },
  {
   "cell_type": "markdown",
   "metadata": {},
   "source": [
    "### Probabilidad de que caigan n numeros seguidos que pertencen a la misma docena el evento opuesto es numeros de las otras dos docenas 0 y 00."
   ]
  },
  {
   "cell_type": "code",
   "execution_count": 5,
   "metadata": {},
   "outputs": [
    {
     "name": "stdout",
     "output_type": "stream",
     "text": [
      "1\t31.57895 %\n",
      "2\t9.97230 %\n",
      "3\t3.14915 %\n",
      "4\t0.99447 %\n",
      "5\t0.31404 %\n",
      "6\t0.09917 %\n",
      "7\t0.03132 %\n",
      "8\t0.00989 %\n",
      "9\t0.00312 %\n",
      "10\t0.00099 %\n",
      "11\t0.00031 %\n",
      "12\t0.00010 %\n",
      "13\t0.00003 %\n",
      "14\t0.00001 %\n"
     ]
    }
   ],
   "source": [
    "l_p_docena=[]\n",
    "p_docena=12/38\n",
    "for n in range (1,15):\n",
    "    p_actual = p_docena**n\n",
    "    l_p_docena.append(p_actual)\n",
    "    print (str(n)+\"\\t\"+\"{0:.5f}\".format(p_actual*100)+\" %\")"
   ]
  },
  {
   "cell_type": "markdown",
   "metadata": {},
   "source": [
    "### probabilidad del evento opuesto, numeros de las otras dos docenas 0 y 00"
   ]
  },
  {
   "cell_type": "code",
   "execution_count": 6,
   "metadata": {},
   "outputs": [
    {
     "name": "stdout",
     "output_type": "stream",
     "text": [
      "1\t68.42105 %\n",
      "2\t90.02770 %\n",
      "3\t96.85085 %\n",
      "4\t99.00553 %\n",
      "5\t99.68596 %\n",
      "6\t99.90083 %\n",
      "7\t99.96868 %\n",
      "8\t99.99011 %\n",
      "9\t99.99688 %\n",
      "10\t99.99901 %\n",
      "11\t99.99969 %\n",
      "12\t99.99990 %\n",
      "13\t99.99997 %\n",
      "14\t99.99999 %\n"
     ]
    }
   ],
   "source": [
    "for i in range(0,14):\n",
    "    st=(1-l_p_docena[i])*100\n",
    "    print(str(i+1)+\"\\t\"+\"{0:.5f}\".format(st)+\" %\")"
   ]
  },
  {
   "cell_type": "markdown",
   "metadata": {},
   "source": [
    "### Probabilidad de que caigan n numeros seguidos que pertencen a la misma docena, 0 o 00, el evento opuesto es numeros de las otras dos docenas."
   ]
  },
  {
   "cell_type": "code",
   "execution_count": 7,
   "metadata": {},
   "outputs": [
    {
     "name": "stdout",
     "output_type": "stream",
     "text": [
      "1\t36.84211 %\n",
      "2\t13.57341 %\n",
      "3\t5.00073 %\n",
      "4\t1.84237 %\n",
      "5\t0.67877 %\n",
      "6\t0.25007 %\n",
      "7\t0.09213 %\n",
      "8\t0.03394 %\n",
      "9\t0.01251 %\n",
      "10\t0.00461 %\n",
      "11\t0.00170 %\n",
      "12\t0.00063 %\n",
      "13\t0.00023 %\n",
      "14\t0.00008 %\n"
     ]
    }
   ],
   "source": [
    "l_p_docena_0=[]\n",
    "p_docena_0=14/38\n",
    "for n in range (1,15):\n",
    "    p_actual = p_docena_0**n\n",
    "    l_p_docena_0.append(p_actual)\n",
    "    print (str(n)+\"\\t\"+\"{0:.5f}\".format(p_actual*100)+\" %\")"
   ]
  },
  {
   "cell_type": "markdown",
   "metadata": {},
   "source": [
    "### probabilidad del evento opuesto, numeros de las otras dos docenas"
   ]
  },
  {
   "cell_type": "code",
   "execution_count": 10,
   "metadata": {},
   "outputs": [
    {
     "name": "stdout",
     "output_type": "stream",
     "text": [
      "1\t63.15789 %\n",
      "2\t86.42659 %\n",
      "3\t94.99927 %\n",
      "4\t98.15763 %\n",
      "5\t99.32123 %\n",
      "6\t99.74993 %\n",
      "7\t99.90787 %\n",
      "8\t99.96606 %\n",
      "9\t99.98749 %\n",
      "10\t99.99539 %\n",
      "11\t99.99830 %\n",
      "12\t99.99937 %\n",
      "13\t99.99977 %\n",
      "14\t99.99992 %\n"
     ]
    }
   ],
   "source": [
    "for i in range(0,14):\n",
    "    st=(1-l_p_docena_0[i])*100\n",
    "    print(str(i+1)+\"\\t\"+\"{0:.5f}\".format(st)+\" %\")"
   ]
  }
 ],
 "metadata": {
  "kernelspec": {
   "display_name": "Python 3",
   "language": "python",
   "name": "python3"
  },
  "language_info": {
   "codemirror_mode": {
    "name": "ipython",
    "version": 3
   },
   "file_extension": ".py",
   "mimetype": "text/x-python",
   "name": "python",
   "nbconvert_exporter": "python",
   "pygments_lexer": "ipython3",
   "version": "3.7.4"
  }
 },
 "nbformat": 4,
 "nbformat_minor": 2
}
